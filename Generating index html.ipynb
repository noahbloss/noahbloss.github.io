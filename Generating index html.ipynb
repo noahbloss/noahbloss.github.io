{
 "cells": [
  {
   "cell_type": "code",
   "execution_count": 12,
   "metadata": {},
   "outputs": [
    {
     "name": "stdout",
     "output_type": "stream",
     "text": [
      "[2023 2022 2021 2020 2019 2018 2017]\n",
      "index.html file has been successfully generated.\n"
     ]
    }
   ],
   "source": [
    "import numpy as np\n",
    "Years = np.array([2023, 2022, 2021, 2020, 2019, 2018, 2017])\n",
    "Years[::-1].sort()\n",
    "print(Years)\n",
    "\n",
    "\n",
    "# Generate years_data dynamically based on Years list\n",
    "years_data = {}\n",
    "for year in Years:\n",
    "    years_data[str(year)] = {\n",
    "        'pitching_overview': f'{year}/pitching-overview.html',\n",
    "        'best_pitchers_by_pitch': f'{year}/best-pitchers-by-pitch.html'\n",
    "    }\n",
    "\n",
    "# Generate HTML content dynamically\n",
    "html_content = \"\"\"\n",
    "<!DOCTYPE html>\n",
    "<html lang=\"en\">\n",
    "<head>\n",
    "    <meta charset=\"UTF-8\">\n",
    "    <meta name=\"viewport\" content=\"width=device-width, initial-scale=1.0\">\n",
    "    <title>MLB Pitching Analysis</title>\n",
    "</head>\n",
    "<body>\n",
    "    <h1>MLB Pitching Analysis</h1>\n",
    "\"\"\"\n",
    "\n",
    "# Iterate over each year in the years_data dictionary\n",
    "for year, pages in years_data.items():\n",
    "    html_content += f\"\"\"\n",
    "    <h2>{year} Pitching Pages</h2>\n",
    "    <ul>\n",
    "        <li><a href=\"{pages['pitching_overview']}\">Pitching Overview</a></li>\n",
    "        <li><a href=\"{pages['best_pitchers_by_pitch']}\">Best Pitchers by Pitch</a></li>\n",
    "    </ul>\n",
    "    \"\"\"\n",
    "\n",
    "# Close the HTML body and document\n",
    "html_content += \"\"\"\n",
    "</body>\n",
    "</html>\n",
    "\"\"\"\n",
    "\n",
    "# Save the generated HTML content to index.html\n",
    "with open('index.html', 'w') as html_file:\n",
    "    html_file.write(html_content)\n",
    "\n",
    "print(\"index.html file has been successfully generated.\")\n"
   ]
  }
 ],
 "metadata": {
  "kernelspec": {
   "display_name": "base",
   "language": "python",
   "name": "python3"
  },
  "language_info": {
   "codemirror_mode": {
    "name": "ipython",
    "version": 3
   },
   "file_extension": ".py",
   "mimetype": "text/x-python",
   "name": "python",
   "nbconvert_exporter": "python",
   "pygments_lexer": "ipython3",
   "version": "3.10.9"
  }
 },
 "nbformat": 4,
 "nbformat_minor": 2
}
